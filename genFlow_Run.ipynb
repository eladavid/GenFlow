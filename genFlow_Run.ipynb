{
 "cells": [
  {
   "cell_type": "markdown",
   "metadata": {
    "id": "1VDJENzzk5jM"
   },
   "source": [
    "### imports "
   ]
  },
  {
   "cell_type": "code",
   "execution_count": 10,
   "metadata": {
    "colab": {
     "base_uri": "https://localhost:8080/"
    },
    "executionInfo": {
     "elapsed": 27047,
     "status": "ok",
     "timestamp": 1610951642293,
     "user": {
      "displayName": "elad david",
      "photoUrl": "",
      "userId": "02682825620108749012"
     },
     "user_tz": -120
    },
    "id": "hYMvvndbk4jo",
    "outputId": "a814e0f4-9b19-46e4-a349-198b3a3c1dd1"
   },
   "outputs": [],
   "source": [
    "if 'google.colab' in str(get_ipython()):\n",
    "    remote_flag = 1\n",
    "    !pip install mnist\n",
    "    from google.colab import files\n",
    "    from google.colab import drive\n",
    "    drive.mount('/content/gdrive')\n",
    "else:\n",
    "    remote_flag = 0\n",
    "    from six.moves import urllib    \n",
    "    opener = urllib.request.build_opener()\n",
    "    opener.addheaders = [('User-agent', 'Mozilla/5.0')]\n",
    "    urllib.request.install_opener(opener)\n",
    "\n",
    "import ModuleGenFlow as genflow\n",
    "import operationUtils as op\n",
    "import mnist\n",
    "import numpy as np\n",
    "import pickle\n",
    "import time\n",
    "\n",
    "from matplotlib import pyplot as plt\n",
    "from matplotlib import colors\n",
    "import torchvision.datasets.cifar as cifar"
   ]
  },
  {
   "cell_type": "markdown",
   "metadata": {
    "id": "IZYavhjRlPK2"
   },
   "source": [
    "### data preprocessing"
   ]
  },
  {
   "cell_type": "code",
   "execution_count": 11,
   "metadata": {
    "executionInfo": {
     "elapsed": 1624,
     "status": "ok",
     "timestamp": 1610909835943,
     "user": {
      "displayName": "elad david",
      "photoUrl": "",
      "userId": "02682825620108749012"
     },
     "user_tz": -120
    },
    "id": "ZdzF1T57lF0E"
   },
   "outputs": [],
   "source": [
    "choose_mnist_cifar = 0 # 0 = mnist, 1 = cifar\n",
    "cifar_labels_reduction = [3, 4, 5, 6]\n",
    "n_per_label = 1000\n",
    "\n",
    "\n",
    "if choose_mnist_cifar == 0: # MNIST\n",
    "    n_channel = 1\n",
    "    dataset_path = F\"MNIST/\"\n",
    "    x_train = mnist.train_images()\n",
    "    y_train = mnist.train_labels()\n",
    "    labels = np.unique(y_train)\n",
    "    x_train_sampled = np.zeros([len(labels)*n_per_label, x_train.shape[1],x_train.shape[2]])\n",
    "    ### equaly sample labels ###\n",
    "    for k in labels:\n",
    "        curr_label_data = x_train[(y_train == k),:,:]\n",
    "        sample_idcs = np.random.choice(np.arange(curr_label_data.shape[0]), n_per_label, replace=False)\n",
    "        samples_per_label = curr_label_data[sample_idcs,:,:]\n",
    "        x_train_sampled[k*n_per_label:(k+1)*n_per_label, :,:] = samples_per_label\n",
    "else: # CIFAR\n",
    "    n_channel = 3\n",
    "    dataset_path = F\"CIFAR/\"\n",
    "    cifar_trainset = cifar.CIFAR10(root='./data', train=True, download=True, transform=None)\n",
    "    x_train = cifar_trainset.data\n",
    "    y_train = np.array(cifar_trainset.targets)\n",
    "    labels = cifar_labels_reduction\n",
    "    x_train_sampled = np.zeros([len(labels)*n_per_label, x_train.shape[1],x_train.shape[2], x_train.shape[3]])\n",
    "\n",
    "    for k in range(len(labels)):\n",
    "        curr_label_data = x_train[(y_train == labels[k]),:,:,:]\n",
    "        sample_idcs = np.random.choice(np.arange(curr_label_data.shape[0]), n_per_label, replace=False)\n",
    "        samples_per_label = curr_label_data[sample_idcs,:,:,:]\n",
    "        x_train_sampled[k*n_per_label:(k+1)*n_per_label, :,:,:] = samples_per_label\n",
    "\n",
    "\n",
    "del x_train\n",
    "del y_train\n"
   ]
  },
  {
   "cell_type": "markdown",
   "metadata": {
    "id": "7OajRMOprG0l"
   },
   "source": [
    "## Choose model architecture"
   ]
  },
  {
   "cell_type": "code",
   "execution_count": 12,
   "metadata": {
    "executionInfo": {
     "elapsed": 915,
     "status": "ok",
     "timestamp": 1610909842448,
     "user": {
      "displayName": "elad david",
      "photoUrl": "",
      "userId": "02682825620108749012"
     },
     "user_tz": -120
    },
    "id": "k6X-nCQcrAfG"
   },
   "outputs": [],
   "source": [
    "# set num of model latent samples\n",
    "n_samples = 1000 # max 10000\n",
    "# create empty model object\n",
    "model = genflow.GenFlow(n_gen_samples=n_samples)\n",
    "# set architecture\n",
    "arch = 5 # 1, 2, 3, 4"
   ]
  },
  {
   "cell_type": "markdown",
   "metadata": {
    "id": "c94_rKqkpZ6k"
   },
   "source": [
    "## Architecture 1 - \"Original\""
   ]
  },
  {
   "cell_type": "code",
   "execution_count": 13,
   "metadata": {
    "executionInfo": {
     "elapsed": 1185,
     "status": "ok",
     "timestamp": 1610909884018,
     "user": {
      "displayName": "elad david",
      "photoUrl": "",
      "userId": "02682825620108749012"
     },
     "user_tz": -120
    },
    "id": "fR--IUgIlIvd"
   },
   "outputs": [],
   "source": [
    "if arch == 1:\n",
    "\n",
    "  # scale 7x7\n",
    "  model.add_layer(genflow.Linear(features_dim=7*7*n_channel, poly_deg=5, n_iter=2, use_multiprocessing=0))\n",
    "  model.add_layer(genflow.Conv(features_dim=7*7*n_channel, kernel_dim=5, poly_deg=4, n_iter=2, is_rgb=choose_mnist_cifar, use_multiprocessing=1))\n",
    "  model.add_layer(genflow.Conv(features_dim=7*7*n_channel, kernel_dim=3, poly_deg=3, n_iter=2, is_rgb=choose_mnist_cifar, use_multiprocessing=1))\n",
    "\n",
    "  # scale 14x14\n",
    "  model.add_layer(genflow.Linear(features_dim=14*14*n_channel, poly_deg=6, n_iter=2, use_multiprocessing=1))\n",
    "  model.add_layer(genflow.Conv(features_dim=14*14*n_channel, kernel_dim=7, poly_deg=5, n_iter=2, is_rgb=choose_mnist_cifar, use_multiprocessing=1))\n",
    "  model.add_layer(genflow.Conv(features_dim=14*14*n_channel, kernel_dim=5, poly_deg=4, n_iter=2, is_rgb=choose_mnist_cifar, use_multiprocessing=1))\n",
    "\n",
    "  # scale 21x21\n",
    "  model.add_layer(genflow.Linear(features_dim=21*21*n_channel, poly_deg=7, n_iter=2, use_multiprocessing=1))\n",
    "  model.add_layer(genflow.Conv(features_dim=21*21*n_channel, kernel_dim=7, poly_deg=5, n_iter=2, is_rgb=choose_mnist_cifar, use_multiprocessing=1))\n",
    "  model.add_layer(genflow.Conv(features_dim=21*21*n_channel, kernel_dim=5, poly_deg=4, n_iter=2, is_rgb=choose_mnist_cifar, use_multiprocessing=1))\n",
    "  model.add_layer(genflow.Conv(features_dim=21*21*n_channel, kernel_dim=3, poly_deg=3, n_iter=2, is_rgb=choose_mnist_cifar, use_multiprocessing=1))\n",
    "\n",
    "  # scale 28x28\n",
    "  model.add_layer(genflow.Linear(features_dim=28*28*n_channel, poly_deg=6, n_iter=2, use_multiprocessing=1))\n",
    "  model.add_layer(genflow.Conv(features_dim=28*28*n_channel, kernel_dim=7, poly_deg=5, n_iter=2, is_rgb=choose_mnist_cifar, use_multiprocessing=1))\n",
    "  model.add_layer(genflow.Conv(features_dim=28*28*n_channel, kernel_dim=5, poly_deg=4, n_iter=2, is_rgb=choose_mnist_cifar, use_multiprocessing=1))\n",
    "  model.add_layer(genflow.Conv(features_dim=28*28*n_channel, kernel_dim=3, poly_deg=3, n_iter=2, is_rgb=choose_mnist_cifar, use_multiprocessing=1))\n",
    "\n",
    "  scales_sizes = (3, 3, 4, 4)"
   ]
  },
  {
   "cell_type": "markdown",
   "metadata": {
    "id": "z5PwlF3Vpk-m"
   },
   "source": [
    "## Architecture 2 - fully linear Long"
   ]
  },
  {
   "cell_type": "code",
   "execution_count": 14,
   "metadata": {
    "id": "sGiT-88RpuCE"
   },
   "outputs": [],
   "source": [
    "if arch == 2:\n",
    "\n",
    "  # scale 7x7\n",
    "  model.add_layer(genflow.Linear(features_dim=7*7*n_channel, poly_deg=5, n_iter=1000))\n",
    "\n",
    "  # scale 14x14\n",
    "  model.add_layer(genflow.Linear(features_dim=14*14*n_channel, poly_deg=6, n_iter=1000))\n",
    "\n",
    "  # scale 21x21\n",
    "  model.add_layer(genflow.Linear(features_dim=21*21*n_channel, poly_deg=7, n_iter=800))\n",
    "\n",
    "  # scale 28x28\n",
    "  model.add_layer(genflow.Linear(features_dim=28*28*n_channel, poly_deg=6, n_iter=600))\n",
    "\n",
    "  scales_sizes = (1, 1, 1, 1)"
   ]
  },
  {
   "cell_type": "markdown",
   "metadata": {
    "id": "DnEqqpqLp94b"
   },
   "source": [
    "## Architecture 3 - fully Conv"
   ]
  },
  {
   "cell_type": "code",
   "execution_count": 15,
   "metadata": {
    "id": "anRljg_lqJqX"
   },
   "outputs": [],
   "source": [
    "if arch == 3:\n",
    "\n",
    "  # scale 7x7\n",
    "  model.add_layer(genflow.Conv(features_dim=7*7, kernel_dim=5, poly_deg=4, n_iter=200, is_rgb=choose_mnist_cifar))\n",
    "  model.add_layer(genflow.Conv(features_dim=7*7, kernel_dim=3, poly_deg=3, n_iter=200, is_rgb=choose_mnist_cifar))\n",
    "\n",
    "  # scale 14x14\n",
    "  model.add_layer(genflow.Conv(features_dim=14*14, kernel_dim=7, poly_deg=5, n_iter=200, is_rgb=choose_mnist_cifar))\n",
    "  model.add_layer(genflow.Conv(features_dim=14*14, kernel_dim=5, poly_deg=4, n_iter=200, is_rgb=choose_mnist_cifar))\n",
    "\n",
    "  # scale 21x21\n",
    "  model.add_layer(genflow.Conv(features_dim=21*21, kernel_dim=7, poly_deg=5, n_iter=200, is_rgb=choose_mnist_cifar))\n",
    "  model.add_layer(genflow.Conv(features_dim=21*21, kernel_dim=5, poly_deg=4, n_iter=200, is_rgb=choose_mnist_cifar))\n",
    "  model.add_layer(genflow.Conv(features_dim=21*21, kernel_dim=3, poly_deg=3, n_iter=200, is_rgb=choose_mnist_cifar))\n",
    "\n",
    "  # scale 28x28\n",
    "  model.add_layer(genflow.Conv(features_dim=28*28, kernel_dim=7, poly_deg=5, n_iter=200, is_rgb=choose_mnist_cifar))\n",
    "  model.add_layer(genflow.Conv(features_dim=28*28, kernel_dim=5, poly_deg=4, n_iter=200, is_rgb=choose_mnist_cifar))\n",
    "  model.add_layer(genflow.Conv(features_dim=28*28, kernel_dim=3, poly_deg=3, n_iter=200, is_rgb=choose_mnist_cifar))\n",
    "\n",
    "  scales_sizes = (2, 2, 3, 3)"
   ]
  },
  {
   "cell_type": "markdown",
   "metadata": {
    "id": "7VYcdjSwqZAd"
   },
   "source": [
    "## Architecture 4 - combined, Conv Short"
   ]
  },
  {
   "cell_type": "code",
   "execution_count": 16,
   "metadata": {
    "executionInfo": {
     "elapsed": 1309,
     "status": "ok",
     "timestamp": 1610897334773,
     "user": {
      "displayName": "elad david",
      "photoUrl": "",
      "userId": "02682825620108749012"
     },
     "user_tz": -120
    },
    "id": "5uTMes0YqdoE"
   },
   "outputs": [],
   "source": [
    "if arch == 4:\n",
    "  # scale 7x7\n",
    "  model.add_layer(genflow.Linear(features_dim=7*7*n_channel, poly_deg=5, n_iter=400))\n",
    "  model.add_layer(genflow.Conv(features_dim=7*7*n_channel, kernel_dim=5, poly_deg=4, n_iter=50, is_rgb=choose_mnist_cifar))\n",
    "  model.add_layer(genflow.Conv(features_dim=7*7*n_channel, kernel_dim=3, poly_deg=3, n_iter=50, is_rgb=choose_mnist_cifar))\n",
    "\n",
    "  # scale 14x14\n",
    "  model.add_layer(genflow.Linear(features_dim=14*14*n_channel, poly_deg=6, n_iter=400))\n",
    "  model.add_layer(genflow.Conv(features_dim=14*14*n_channel, kernel_dim=7, poly_deg=5, n_iter=50, is_rgb=choose_mnist_cifar))\n",
    "  model.add_layer(genflow.Conv(features_dim=14*14*n_channel, kernel_dim=5, poly_deg=4, n_iter=50, is_rgb=choose_mnist_cifar))\n",
    "\n",
    "  # scale 21x21\n",
    "  model.add_layer(genflow.Linear(features_dim=21*21*n_channel, poly_deg=7, n_iter=200))\n",
    "  model.add_layer(genflow.Conv(features_dim=21*21*n_channel, kernel_dim=7, poly_deg=5, n_iter=50, is_rgb=choose_mnist_cifar))\n",
    "  model.add_layer(genflow.Conv(features_dim=21*21*n_channel, kernel_dim=5, poly_deg=4, n_iter=50, is_rgb=choose_mnist_cifar))\n",
    "  model.add_layer(genflow.Conv(features_dim=21*21*n_channel, kernel_dim=3, poly_deg=3, n_iter=50, is_rgb=choose_mnist_cifar))\n",
    "\n",
    "  # scale 28x28\n",
    "  model.add_layer(genflow.Linear(features_dim=28*28*n_channel, poly_deg=6, n_iter=200))\n",
    "  model.add_layer(genflow.Conv(features_dim=28*28*n_channel, kernel_dim=7, poly_deg=5, n_iter=50, is_rgb=choose_mnist_cifar))\n",
    "  model.add_layer(genflow.Conv(features_dim=28*28*n_channel, kernel_dim=5, poly_deg=4, n_iter=50, is_rgb=choose_mnist_cifar))\n",
    "  model.add_layer(genflow.Conv(features_dim=28*28*n_channel, kernel_dim=3, poly_deg=3, n_iter=50, is_rgb=choose_mnist_cifar))\n",
    "\n",
    "  scales_sizes = (3, 3, 4, 4)"
   ]
  },
  {
   "cell_type": "markdown",
   "source": [
    "## Architecture 5 - light"
   ],
   "metadata": {
    "collapsed": false,
    "pycharm": {
     "name": "#%% md\n"
    }
   }
  },
  {
   "cell_type": "code",
   "execution_count": 17,
   "outputs": [],
   "source": [
    "if choose_mnist_cifar:\n",
    "    n_pixels_per_channel = 32*32\n",
    "else:\n",
    "    n_pixels_per_channel = 28*28\n",
    "if arch == 5:\n",
    "    model.add_layer(genflow.Linear(features_dim=n_pixels_per_channel*n_channel, poly_deg=6, n_iter=500))\n",
    "    model.add_layer(genflow.Conv(features_dim=n_pixels_per_channel*n_channel, kernel_dim=7, poly_deg=5, n_iter=200, is_rgb=choose_mnist_cifar))\n",
    "    model.add_layer(genflow.Conv(features_dim=n_pixels_per_channel*n_channel, kernel_dim=5, poly_deg=4, n_iter=200, is_rgb=choose_mnist_cifar))\n",
    "    model.add_layer(genflow.Conv(features_dim=n_pixels_per_channel*n_channel, kernel_dim=3, poly_deg=3, n_iter=200, is_rgb=choose_mnist_cifar))\n",
    "\n",
    "    scales_sizes = (4, )"
   ],
   "metadata": {
    "collapsed": false,
    "pycharm": {
     "name": "#%%\n"
    }
   }
  },
  {
   "cell_type": "markdown",
   "metadata": {
    "id": "WhARlnTBlkkT"
   },
   "source": [
    "## Run *GenFlow*"
   ]
  },
  {
   "cell_type": "code",
   "execution_count": 18,
   "metadata": {
    "colab": {
     "base_uri": "https://localhost:8080/"
    },
    "id": "xeUFw06RlkLz",
    "outputId": "15d98df2-7aad-4e6b-b641-afa4252cd0b8"
   },
   "outputs": [
    {
     "name": "stdout",
     "output_type": "stream",
     "text": [
      "iter: 0, score: 232523.1900103286\n",
      "iter: 1, score: 50831.102727402766\n",
      "iter: 2, score: 48236.731941196755\n",
      "iter: 3, score: 49974.17261453161\n",
      "iter: 4, score: 50500.29336871543\n",
      "iter: 5, score: 50699.09313014424\n",
      "iter: 6, score: 49461.00227399517\n",
      "iter: 7, score: 49230.9321108578\n",
      "iter: 8, score: 48332.29189927581\n",
      "iter: 9, score: 49635.48306779217\n",
      "iter: 10, score: 48148.26405169939\n",
      "iter: 11, score: 48507.72513559405\n",
      "iter: 12, score: 48055.73003409273\n",
      "iter: 13, score: 47742.702173138205\n",
      "iter: 14, score: 46623.18631594991\n",
      "iter: 15, score: 47135.4488252537\n",
      "iter: 16, score: 45848.13989622922\n",
      "iter: 17, score: 47178.30927682778\n",
      "iter: 18, score: 46945.81256102242\n"
     ]
    },
    {
     "ename": "KeyboardInterrupt",
     "evalue": "",
     "output_type": "error",
     "traceback": [
      "\u001B[1;31m---------------------------------------------------------------------------\u001B[0m",
      "\u001B[1;31mKeyboardInterrupt\u001B[0m                         Traceback (most recent call last)",
      "\u001B[1;32m<ipython-input-18-e165eebcdc9a>\u001B[0m in \u001B[0;36m<module>\u001B[1;34m\u001B[0m\n\u001B[0;32m     26\u001B[0m     \u001B[0mstart_time\u001B[0m \u001B[1;33m=\u001B[0m \u001B[0mtime\u001B[0m\u001B[1;33m.\u001B[0m\u001B[0mtime\u001B[0m\u001B[1;33m(\u001B[0m\u001B[1;33m)\u001B[0m\u001B[1;33m\u001B[0m\u001B[1;33m\u001B[0m\u001B[0m\n\u001B[0;32m     27\u001B[0m     \u001B[1;32mif\u001B[0m \u001B[0mi\u001B[0m \u001B[1;33m==\u001B[0m \u001B[1;36m0\u001B[0m\u001B[1;33m:\u001B[0m\u001B[1;33m\u001B[0m\u001B[1;33m\u001B[0m\u001B[0m\n\u001B[1;32m---> 28\u001B[1;33m         \u001B[0mp_gen\u001B[0m \u001B[1;33m=\u001B[0m \u001B[0mmodel\u001B[0m\u001B[1;33m.\u001B[0m\u001B[0mfit\u001B[0m\u001B[1;33m(\u001B[0m\u001B[0mx_train_sampled\u001B[0m\u001B[1;33m,\u001B[0m \u001B[0mstart_layer\u001B[0m\u001B[1;33m=\u001B[0m\u001B[0mi\u001B[0m\u001B[1;33m,\u001B[0m \u001B[0mlast_layer_idx\u001B[0m\u001B[1;33m=\u001B[0m\u001B[0mi\u001B[0m\u001B[1;33m)\u001B[0m\u001B[1;33m\u001B[0m\u001B[1;33m\u001B[0m\u001B[0m\n\u001B[0m\u001B[0;32m     29\u001B[0m     \u001B[1;32melse\u001B[0m\u001B[1;33m:\u001B[0m\u001B[1;33m\u001B[0m\u001B[1;33m\u001B[0m\u001B[0m\n\u001B[0;32m     30\u001B[0m         \u001B[0mp_gen\u001B[0m \u001B[1;33m=\u001B[0m \u001B[0mmodel\u001B[0m\u001B[1;33m.\u001B[0m\u001B[0mfit\u001B[0m\u001B[1;33m(\u001B[0m\u001B[0mx_train_sampled\u001B[0m\u001B[1;33m,\u001B[0m \u001B[0mp_gen\u001B[0m\u001B[1;33m,\u001B[0m \u001B[0mstart_layer\u001B[0m\u001B[1;33m=\u001B[0m\u001B[0mi\u001B[0m\u001B[1;33m,\u001B[0m \u001B[0mlast_layer_idx\u001B[0m\u001B[1;33m=\u001B[0m\u001B[0mi\u001B[0m\u001B[1;33m)\u001B[0m\u001B[1;33m\u001B[0m\u001B[1;33m\u001B[0m\u001B[0m\n",
      "\u001B[1;32m~\\PycharmProjects\\GenFlow\\ModuleGenFlow.py\u001B[0m in \u001B[0;36mfit\u001B[1;34m(self, data_input, gen_input, start_layer, last_layer_idx)\u001B[0m\n\u001B[0;32m     60\u001B[0m                 \u001B[1;32mbreak\u001B[0m\u001B[1;33m\u001B[0m\u001B[1;33m\u001B[0m\u001B[0m\n\u001B[0;32m     61\u001B[0m             \u001B[0mstart_time\u001B[0m \u001B[1;33m=\u001B[0m \u001B[0mtime\u001B[0m\u001B[1;33m.\u001B[0m\u001B[0mtime\u001B[0m\u001B[1;33m(\u001B[0m\u001B[1;33m)\u001B[0m\u001B[1;33m\u001B[0m\u001B[1;33m\u001B[0m\u001B[0m\n\u001B[1;32m---> 62\u001B[1;33m             \u001B[0mgen_input\u001B[0m \u001B[1;33m=\u001B[0m \u001B[0mlayer\u001B[0m\u001B[1;33m.\u001B[0m\u001B[0mfit\u001B[0m\u001B[1;33m(\u001B[0m\u001B[0mdata_input\u001B[0m\u001B[1;33m,\u001B[0m \u001B[0mgen_input\u001B[0m\u001B[1;33m)\u001B[0m\u001B[1;33m\u001B[0m\u001B[1;33m\u001B[0m\u001B[0m\n\u001B[0m\u001B[0;32m     63\u001B[0m             \u001B[0mend_time\u001B[0m \u001B[1;33m=\u001B[0m \u001B[0mtime\u001B[0m\u001B[1;33m.\u001B[0m\u001B[0mtime\u001B[0m\u001B[1;33m(\u001B[0m\u001B[1;33m)\u001B[0m\u001B[1;33m\u001B[0m\u001B[1;33m\u001B[0m\u001B[0m\n\u001B[0;32m     64\u001B[0m             \u001B[0mprint\u001B[0m\u001B[1;33m(\u001B[0m\u001B[1;34m'finished fit for Layer: {}, time elapsed: {:.3f}'\u001B[0m\u001B[1;33m.\u001B[0m\u001B[0mformat\u001B[0m\u001B[1;33m(\u001B[0m\u001B[0mi\u001B[0m\u001B[1;33m,\u001B[0m \u001B[0mend_time\u001B[0m \u001B[1;33m-\u001B[0m \u001B[0mstart_time\u001B[0m\u001B[1;33m)\u001B[0m\u001B[1;33m)\u001B[0m\u001B[1;33m\u001B[0m\u001B[1;33m\u001B[0m\u001B[0m\n",
      "\u001B[1;32m~\\PycharmProjects\\GenFlow\\ModuleGenFlow.py\u001B[0m in \u001B[0;36mfit\u001B[1;34m(self, data_input, gen_input)\u001B[0m\n\u001B[0;32m    258\u001B[0m         \u001B[0mgen_input\u001B[0m\u001B[1;33m,\u001B[0m \u001B[0m_\u001B[0m \u001B[1;33m=\u001B[0m \u001B[0mself\u001B[0m\u001B[1;33m.\u001B[0m\u001B[0mdata_size_fit\u001B[0m\u001B[1;33m(\u001B[0m\u001B[0mgen_input\u001B[0m\u001B[1;33m)\u001B[0m\u001B[1;33m\u001B[0m\u001B[1;33m\u001B[0m\u001B[0m\n\u001B[0;32m    259\u001B[0m         \u001B[1;31m# fit\u001B[0m\u001B[1;33m\u001B[0m\u001B[1;33m\u001B[0m\u001B[1;33m\u001B[0m\u001B[0m\n\u001B[1;32m--> 260\u001B[1;33m         \u001B[0mgen_output\u001B[0m \u001B[1;33m=\u001B[0m \u001B[0msuper\u001B[0m\u001B[1;33m(\u001B[0m\u001B[0mLinear\u001B[0m\u001B[1;33m,\u001B[0m \u001B[0mself\u001B[0m\u001B[1;33m)\u001B[0m\u001B[1;33m.\u001B[0m\u001B[0mfit\u001B[0m\u001B[1;33m(\u001B[0m\u001B[0mdata_input\u001B[0m\u001B[1;33m,\u001B[0m \u001B[0mgen_input\u001B[0m\u001B[1;33m)\u001B[0m\u001B[1;33m\u001B[0m\u001B[1;33m\u001B[0m\u001B[0m\n\u001B[0m\u001B[0;32m    261\u001B[0m         \u001B[0mgen_output\u001B[0m \u001B[1;33m=\u001B[0m \u001B[0mop\u001B[0m\u001B[1;33m.\u001B[0m\u001B[0mreshape_as_pics\u001B[0m\u001B[1;33m(\u001B[0m\u001B[0mgen_output\u001B[0m\u001B[1;33m,\u001B[0m \u001B[0mis_rgb\u001B[0m\u001B[1;33m)\u001B[0m\u001B[1;33m\u001B[0m\u001B[1;33m\u001B[0m\u001B[0m\n\u001B[0;32m    262\u001B[0m         \u001B[1;32mreturn\u001B[0m \u001B[0mgen_output\u001B[0m\u001B[1;33m\u001B[0m\u001B[1;33m\u001B[0m\u001B[0m\n",
      "\u001B[1;32m~\\PycharmProjects\\GenFlow\\ModuleGenFlow.py\u001B[0m in \u001B[0;36mfit\u001B[1;34m(self, data_input, gen_input)\u001B[0m\n\u001B[0;32m    159\u001B[0m                 \u001B[1;32mfor\u001B[0m \u001B[0md\u001B[0m \u001B[1;32min\u001B[0m \u001B[0mrange\u001B[0m\u001B[1;33m(\u001B[0m\u001B[0mfeatures_dim\u001B[0m\u001B[1;33m)\u001B[0m\u001B[1;33m:\u001B[0m\u001B[1;33m\u001B[0m\u001B[1;33m\u001B[0m\u001B[0m\n\u001B[0;32m    160\u001B[0m                     \u001B[0mio_poly\u001B[0m\u001B[1;33m,\u001B[0m \u001B[0maxis_score\u001B[0m\u001B[1;33m,\u001B[0m \u001B[0msupport_bounds\u001B[0m\u001B[1;33m,\u001B[0m \u001B[0mp_lin\u001B[0m \u001B[1;33m=\u001B[0m\u001B[0;31m \u001B[0m\u001B[0;31m\\\u001B[0m\u001B[1;33m\u001B[0m\u001B[1;33m\u001B[0m\u001B[0m\n\u001B[1;32m--> 161\u001B[1;33m                         \u001B[0mop\u001B[0m\u001B[1;33m.\u001B[0m\u001B[0mfit_axis_mapping_func\u001B[0m\u001B[1;33m(\u001B[0m\u001B[0mdata_rot\u001B[0m\u001B[1;33m[\u001B[0m\u001B[0md\u001B[0m\u001B[1;33m,\u001B[0m \u001B[1;33m:\u001B[0m\u001B[1;33m]\u001B[0m\u001B[1;33m,\u001B[0m \u001B[0mgen_rot\u001B[0m\u001B[1;33m[\u001B[0m\u001B[0md\u001B[0m\u001B[1;33m,\u001B[0m \u001B[1;33m:\u001B[0m\u001B[1;33m]\u001B[0m\u001B[1;33m,\u001B[0m \u001B[0mself\u001B[0m\u001B[1;33m.\u001B[0m\u001B[0mpoly_deg\u001B[0m\u001B[1;33m)\u001B[0m\u001B[1;33m\u001B[0m\u001B[1;33m\u001B[0m\u001B[0m\n\u001B[0m\u001B[0;32m    162\u001B[0m                     \u001B[0mself\u001B[0m\u001B[1;33m.\u001B[0m\u001B[0mmapping_tensor\u001B[0m\u001B[1;33m[\u001B[0m\u001B[0mi\u001B[0m\u001B[1;33m,\u001B[0m \u001B[1;33m:\u001B[0m\u001B[1;33m,\u001B[0m \u001B[0md\u001B[0m\u001B[1;33m]\u001B[0m \u001B[1;33m=\u001B[0m \u001B[0mio_poly\u001B[0m\u001B[1;33m\u001B[0m\u001B[1;33m\u001B[0m\u001B[0m\n\u001B[0;32m    163\u001B[0m                     \u001B[0mself\u001B[0m\u001B[1;33m.\u001B[0m\u001B[0msupport_bounds\u001B[0m\u001B[1;33m[\u001B[0m\u001B[0mi\u001B[0m\u001B[1;33m,\u001B[0m \u001B[1;33m:\u001B[0m\u001B[1;33m,\u001B[0m \u001B[0md\u001B[0m\u001B[1;33m]\u001B[0m \u001B[1;33m=\u001B[0m \u001B[0msupport_bounds\u001B[0m\u001B[1;33m\u001B[0m\u001B[1;33m\u001B[0m\u001B[0m\n",
      "\u001B[1;32m~\\PycharmProjects\\GenFlow\\operationUtils.py\u001B[0m in \u001B[0;36mfit_axis_mapping_func\u001B[1;34m(axis_data, axis_gen, poly_deg, method)\u001B[0m\n\u001B[0;32m    120\u001B[0m \u001B[1;32mdef\u001B[0m \u001B[0mfit_axis_mapping_func\u001B[0m\u001B[1;33m(\u001B[0m\u001B[0maxis_data\u001B[0m\u001B[1;33m,\u001B[0m \u001B[0maxis_gen\u001B[0m\u001B[1;33m,\u001B[0m \u001B[0mpoly_deg\u001B[0m\u001B[1;33m,\u001B[0m \u001B[0mmethod\u001B[0m\u001B[1;33m=\u001B[0m\u001B[1;34m'L1'\u001B[0m\u001B[1;33m)\u001B[0m\u001B[1;33m:\u001B[0m\u001B[1;33m\u001B[0m\u001B[1;33m\u001B[0m\u001B[0m\n\u001B[0;32m    121\u001B[0m     \u001B[0maxis_gen_sorted\u001B[0m \u001B[1;33m=\u001B[0m \u001B[0mnp\u001B[0m\u001B[1;33m.\u001B[0m\u001B[0msort\u001B[0m\u001B[1;33m(\u001B[0m\u001B[0maxis_gen\u001B[0m\u001B[1;33m)\u001B[0m\u001B[1;33m\u001B[0m\u001B[1;33m\u001B[0m\u001B[0m\n\u001B[1;32m--> 122\u001B[1;33m     \u001B[0maxis_data_sorted\u001B[0m \u001B[1;33m=\u001B[0m \u001B[0mnp\u001B[0m\u001B[1;33m.\u001B[0m\u001B[0msort\u001B[0m\u001B[1;33m(\u001B[0m\u001B[0maxis_data\u001B[0m\u001B[1;33m)\u001B[0m\u001B[1;33m\u001B[0m\u001B[1;33m\u001B[0m\u001B[0m\n\u001B[0m\u001B[0;32m    123\u001B[0m     \u001B[1;32mif\u001B[0m \u001B[0maxis_gen_sorted\u001B[0m\u001B[1;33m.\u001B[0m\u001B[0mndim\u001B[0m \u001B[1;33m>\u001B[0m \u001B[1;36m1\u001B[0m\u001B[1;33m:\u001B[0m\u001B[1;33m\u001B[0m\u001B[1;33m\u001B[0m\u001B[0m\n\u001B[0;32m    124\u001B[0m         \u001B[0maxis_gen_sorted\u001B[0m \u001B[1;33m=\u001B[0m \u001B[0mnp\u001B[0m\u001B[1;33m.\u001B[0m\u001B[0msqueeze\u001B[0m\u001B[1;33m(\u001B[0m\u001B[0maxis_gen_sorted\u001B[0m\u001B[1;33m,\u001B[0m \u001B[1;36m0\u001B[0m\u001B[1;33m)\u001B[0m\u001B[1;33m\u001B[0m\u001B[1;33m\u001B[0m\u001B[0m\n",
      "\u001B[1;32m<__array_function__ internals>\u001B[0m in \u001B[0;36msort\u001B[1;34m(*args, **kwargs)\u001B[0m\n",
      "\u001B[1;32m~\\anaconda3\\lib\\site-packages\\numpy\\core\\fromnumeric.py\u001B[0m in \u001B[0;36msort\u001B[1;34m(a, axis, kind, order)\u001B[0m\n\u001B[0;32m    989\u001B[0m     \u001B[1;32melse\u001B[0m\u001B[1;33m:\u001B[0m\u001B[1;33m\u001B[0m\u001B[1;33m\u001B[0m\u001B[0m\n\u001B[0;32m    990\u001B[0m         \u001B[0ma\u001B[0m \u001B[1;33m=\u001B[0m \u001B[0masanyarray\u001B[0m\u001B[1;33m(\u001B[0m\u001B[0ma\u001B[0m\u001B[1;33m)\u001B[0m\u001B[1;33m.\u001B[0m\u001B[0mcopy\u001B[0m\u001B[1;33m(\u001B[0m\u001B[0morder\u001B[0m\u001B[1;33m=\u001B[0m\u001B[1;34m\"K\"\u001B[0m\u001B[1;33m)\u001B[0m\u001B[1;33m\u001B[0m\u001B[1;33m\u001B[0m\u001B[0m\n\u001B[1;32m--> 991\u001B[1;33m     \u001B[0ma\u001B[0m\u001B[1;33m.\u001B[0m\u001B[0msort\u001B[0m\u001B[1;33m(\u001B[0m\u001B[0maxis\u001B[0m\u001B[1;33m=\u001B[0m\u001B[0maxis\u001B[0m\u001B[1;33m,\u001B[0m \u001B[0mkind\u001B[0m\u001B[1;33m=\u001B[0m\u001B[0mkind\u001B[0m\u001B[1;33m,\u001B[0m \u001B[0morder\u001B[0m\u001B[1;33m=\u001B[0m\u001B[0morder\u001B[0m\u001B[1;33m)\u001B[0m\u001B[1;33m\u001B[0m\u001B[1;33m\u001B[0m\u001B[0m\n\u001B[0m\u001B[0;32m    992\u001B[0m     \u001B[1;32mreturn\u001B[0m \u001B[0ma\u001B[0m\u001B[1;33m\u001B[0m\u001B[1;33m\u001B[0m\u001B[0m\n\u001B[0;32m    993\u001B[0m \u001B[1;33m\u001B[0m\u001B[0m\n",
      "\u001B[1;31mKeyboardInterrupt\u001B[0m: "
     ]
    }
   ],
   "source": [
    "if remote_flag:\n",
    "    w_dir = F\"/content/gdrive/My Drive/Colab Notebooks/genFlow/\"\n",
    "else:\n",
    "    w_dir = F\"C:/Users/elada/OneDrive - Technion/projB_SIPL/Data/\"\n",
    "\n",
    "w_dir = w_dir + dataset_path\n",
    "\n",
    "if arch == 1:\n",
    "  path = w_dir + F\"original/\"\n",
    "elif arch == 2:\n",
    "  path = w_dir + F\"linear/\"\n",
    "elif arch == 3:\n",
    "  path = w_dir + F\"conv/\"\n",
    "elif arch == 4:\n",
    "  path = w_dir + F\"combined/\"\n",
    "elif arch == 5:\n",
    "  path = w_dir + F\"light/\"\n",
    "data_path = path + F\"data_input\"\n",
    "\n",
    "with open(data_path, 'wb') as file:\n",
    "  pickle.dump(x_train_sampled, file)\n",
    "n_layers = model.get_num_of_layers()\n",
    "curr_scale = 0\n",
    "k = 0\n",
    "for i in range(n_layers):\n",
    "    start_time = time.time()\n",
    "    if i == 0:\n",
    "        p_gen = model.fit(x_train_sampled, start_layer=i, last_layer_idx=i)\n",
    "    else:\n",
    "        p_gen = model.fit(x_train_sampled, p_gen, start_layer=i, last_layer_idx=i)\n",
    "    end_time = time.time()\n",
    "    k = k + 1\n",
    "    if k == (scales_sizes[curr_scale]):\n",
    "        fname = 'genFlow_scale_' + str(curr_scale+1)\n",
    "        fname_2 = 'gen_output_scale_' + str(curr_scale+1)\n",
    "\n",
    "        model_path = path + F\"{fname}\"\n",
    "        gen_output_path = path + F\"{fname_2}\"\n",
    "\n",
    "        with open(model_path, 'wb') as file:\n",
    "            pickle.dump(model, file)\n",
    "        with open(gen_output_path, 'wb') as file:\n",
    "            pickle.dump(p_gen, file)\n",
    "        k = 0 \n",
    "        curr_scale = curr_scale + 1"
   ]
  },
  {
   "cell_type": "code",
   "execution_count": null,
   "metadata": {
    "colab": {
     "base_uri": "https://localhost:8080/"
    },
    "executionInfo": {
     "elapsed": 16185132,
     "status": "ok",
     "timestamp": 1610967982685,
     "user": {
      "displayName": "elad david",
      "photoUrl": "",
      "userId": "02682825620108749012"
     },
     "user_tz": -120
    },
    "id": "ZU5sqS4lnSUV",
    "outputId": "641a84b0-5356-412b-9631-1da09174c14e"
   },
   "outputs": [],
   "source": [
    "### run from middle option ###\n",
    "if remote_flag:\n",
    "    w_dir = F\"/content/gdrive/My Drive/Colab Notebooks/genFlow/\"\n",
    "else:\n",
    "    w_dir = F\"C:/Users/elada/OneDrive - Technion/projB_SIPL/Data/\"\n",
    "\n",
    "path = w_dir + F\"original/\"\n",
    "\n",
    "data_path = path + F\"data_input\"\n",
    "model_path = path + F\"genFlow_scale_3\"\n",
    "gen_output_path = path + F\"gen_output_scale_3\"\n",
    "\n",
    "with open(data_path, 'rb') as file:\n",
    "    x_train_sampled = pickle.load(file) \n",
    "with open(model_path, 'rb') as file:\n",
    "    model = pickle.load(file) \n",
    "with open(gen_output_path, 'rb') as file:\n",
    "    p_gen = pickle.load(file) \n",
    "\n",
    "scales_sizes = (3, 3, 4, 4)\n",
    "curr_scale = 3\n",
    "k = 0\n",
    "remain_iters = np.arange(model.get_last_exec_layer()+1, model.get_num_of_layers())\n",
    "for i in remain_iters:\n",
    "  p_gen = model.fit(x_train_sampled, p_gen, start_layer=i, last_layer_idx=i)\n",
    "  k = k + 1\n",
    "  if k == (scales_sizes[curr_scale]):\n",
    "      fname = 'genFlow_scale_' + str(curr_scale+1)\n",
    "      fname_2 = 'gen_output_scale_' + str(curr_scale+1)\n",
    "      model_path = path + F\"{fname}\"\n",
    "      gen_output_path = path + F\"{fname_2}\"\n",
    "\n",
    "      with open(model_path, 'wb') as file:\n",
    "        pickle.dump(model, file)\n",
    "      with open(gen_output_path, 'wb') as file:\n",
    "        pickle.dump(p_gen, file)\n",
    "      k = 0 \n",
    "      curr_scale = curr_scale + 1\n"
   ]
  },
  {
   "cell_type": "markdown",
   "metadata": {
    "id": "H648gSD20pk-"
   },
   "source": [
    "# Load trained model & show results"
   ]
  },
  {
   "cell_type": "code",
   "execution_count": null,
   "metadata": {
    "executionInfo": {
     "elapsed": 2101,
     "status": "ok",
     "timestamp": 1610969108788,
     "user": {
      "displayName": "elad david",
      "photoUrl": "",
      "userId": "02682825620108749012"
     },
     "user_tz": -120
    },
    "id": "M_erUPaUkbfJ"
   },
   "outputs": [],
   "source": [
    "if remote_flag:\n",
    "    w_dir = F\"/content/gdrive/My Drive/Colab Notebooks/genFlow/\"\n",
    "else:\n",
    "    w_dir = F\"C:/Users/elada/OneDrive - Technion/projB_SIPL/Data/\"\n",
    "\n",
    "data_path = w_dir + F\"original/data_input\"\n",
    "\n",
    "path = w_dir + F\"original/genFlow_scale_4\"\n",
    "gen_output_path = w_dir + F\"original/gen_output_scale_4\"\n",
    "with open(data_path, 'rb') as file:\n",
    "    p_data = pickle.load(file) \n",
    "with open(path, 'rb') as file:\n",
    "    model = pickle.load(file) \n",
    "with open(gen_output_path, 'rb') as file:\n",
    "    p_gen = pickle.load(file) \n"
   ]
  },
  {
   "cell_type": "code",
   "execution_count": null,
   "metadata": {
    "colab": {
     "base_uri": "https://localhost:8080/",
     "height": 248
    },
    "executionInfo": {
     "elapsed": 1248,
     "status": "ok",
     "timestamp": 1610969125782,
     "user": {
      "displayName": "elad david",
      "photoUrl": "",
      "userId": "02682825620108749012"
     },
     "user_tz": -120
    },
    "id": "2tQVsB7Vl6dr",
    "outputId": "e879662e-9f3f-4abc-a5f8-57c5461dc2d0"
   },
   "outputs": [],
   "source": [
    "p_gen_data = op.flatten_and_fit_dims(p_gen)\n",
    "collage = op.convert_data_to_collage(p_gen_data)\n",
    "#fig = plt.figure(figsize=(12,12))\n",
    "#plt.imshow(collage, cmap=plt.cm.gray, norm=colors.Normalize(), vmin = 0, vmax = 255)\n",
    "plt.imshow(collage/255, norm=colors.Normalize(vmin=0, vmax=1))\n",
    "plt.axis('off')\n",
    "\n",
    "plt.show()"
   ]
  },
  {
   "cell_type": "code",
   "execution_count": null,
   "metadata": {
    "colab": {
     "base_uri": "https://localhost:8080/"
    },
    "executionInfo": {
     "elapsed": 286345,
     "status": "ok",
     "timestamp": 1610969436455,
     "user": {
      "displayName": "elad david",
      "photoUrl": "",
      "userId": "02682825620108749012"
     },
     "user_tz": -120
    },
    "id": "BcXllGiJmzPo",
    "outputId": "cc39284f-88da-43d5-c4f3-7bb43fcd765e"
   },
   "outputs": [],
   "source": [
    "amount = 100\n",
    "gen_samples = model.transform(p_data, amount)\n"
   ]
  },
  {
   "cell_type": "code",
   "execution_count": null,
   "metadata": {
    "colab": {
     "base_uri": "https://localhost:8080/",
     "height": 248
    },
    "executionInfo": {
     "elapsed": 1622,
     "status": "ok",
     "timestamp": 1610969536996,
     "user": {
      "displayName": "elad david",
      "photoUrl": "",
      "userId": "02682825620108749012"
     },
     "user_tz": -120
    },
    "id": "xOOaEJPIbAEc",
    "outputId": "f19d4212-dbff-4f7c-e3b8-3395fb577543"
   },
   "outputs": [],
   "source": [
    "\n",
    "plt.imshow(collage, cmap=plt.cm.gray, norm=colors.Normalize(), vmin = 0, vmax = 255)\n",
    "plt.axis('off')\n",
    "\n",
    "plt.show()\n",
    "#for i in range(amount):#np.random.choice(amount, 10):\n",
    "#  plt.imshow(gen_samples[i, :, :], cmap=plt.cm.gray, norm=colors.Normalize(), vmin = 0, vmax = 255)\n",
    "#  plt.axis('off')\n",
    "#  plt.show()\n"
   ]
  },
  {
   "cell_type": "code",
   "execution_count": null,
   "metadata": {
    "colab": {
     "base_uri": "https://localhost:8080/"
    },
    "executionInfo": {
     "elapsed": 2120,
     "status": "ok",
     "timestamp": 1610354645995,
     "user": {
      "displayName": "elad david",
      "photoUrl": "",
      "userId": "02682825620108749012"
     },
     "user_tz": -120
    },
    "id": "y1eaRlv_dSd8",
    "outputId": "ecd03e17-0d27-440d-9c71-e508991c64e2"
   },
   "outputs": [],
   "source": [
    "layers=model.get_layer_list()\n",
    "lay1 = layers[0]\n",
    "mat_list = lay1.get_proj_mat_list()\n",
    "p_data_op = op.flatten_and_fit_dims(p_data)\n",
    "C = np.cov(p_data_op)\n",
    "w1 = op.gen_orthogonal_mat(p_data_op, C, random_state=mat_list[0])\n",
    "w2 = op.gen_orthogonal_mat(p_data_op, C, random_state=mat_list[0])\n",
    "\n",
    "p_data_rsz1 = lay1.data_size_fit(p_data)\n",
    "p_data_rsz2 = lay1.data_size_fit(p_data)\n",
    "np.all(p_data_rsz1 == p_data_rsz2)\n",
    "#p_data_resize_1.shape"
   ]
  },
  {
   "cell_type": "code",
   "execution_count": null,
   "metadata": {
    "colab": {
     "base_uri": "https://localhost:8080/",
     "height": 265
    },
    "executionInfo": {
     "elapsed": 955,
     "status": "ok",
     "timestamp": 1610347517245,
     "user": {
      "displayName": "elad david",
      "photoUrl": "",
      "userId": "02682825620108749012"
     },
     "user_tz": -120
    },
    "id": "nd4YUzkU0Jsq",
    "outputId": "e1ee2dbc-0db9-4e4b-cb50-956c7475332f",
    "pycharm": {
     "name": "#%%\n"
    }
   },
   "outputs": [],
   "source": [
    "plt.imshow(gen_samples[2,:,:], cmap=plt.cm.gray, norm=colors.Normalize(), vmin = 0, vmax = 255)\n",
    "plt.show()"
   ]
  },
  {
   "cell_type": "code",
   "execution_count": 19,
   "outputs": [
    {
     "ename": "NameError",
     "evalue": "name 'model_path' is not defined",
     "output_type": "error",
     "traceback": [
      "\u001B[1;31m---------------------------------------------------------------------------\u001B[0m",
      "\u001B[1;31mNameError\u001B[0m                                 Traceback (most recent call last)",
      "\u001B[1;32m<ipython-input-19-20994c22a455>\u001B[0m in \u001B[0;36m<module>\u001B[1;34m\u001B[0m\n\u001B[1;32m----> 1\u001B[1;33m \u001B[0mmodel_path\u001B[0m\u001B[1;33m\u001B[0m\u001B[1;33m\u001B[0m\u001B[0m\n\u001B[0m",
      "\u001B[1;31mNameError\u001B[0m: name 'model_path' is not defined"
     ]
    }
   ],
   "source": [],
   "metadata": {
    "collapsed": false,
    "pycharm": {
     "name": "#%%\n"
    }
   }
  }
 ],
 "metadata": {
  "colab": {
   "authorship_tag": "ABX9TyPTvLN5oQAm0Uv/56Xmk516",
   "collapsed_sections": [],
   "name": "genFlow_Run.ipynb",
   "provenance": []
  },
  "kernelspec": {
   "display_name": "Python 3",
   "language": "python",
   "name": "python3"
  },
  "language_info": {
   "codemirror_mode": {
    "name": "ipython",
    "version": 3
   },
   "file_extension": ".py",
   "mimetype": "text/x-python",
   "name": "python",
   "nbconvert_exporter": "python",
   "pygments_lexer": "ipython3",
   "version": "3.8.5"
  }
 },
 "nbformat": 4,
 "nbformat_minor": 1
}